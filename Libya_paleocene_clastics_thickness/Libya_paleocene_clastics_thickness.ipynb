{
 "cells": [
  {
   "cell_type": "markdown",
   "metadata": {
    "colab_type": "text",
    "id": "view-in-github"
   },
   "source": [
    "<a href=\"https://colab.research.google.com/github/nshea3/geostats/blob/master/Libya_paleocene_clastics_thickness/Libya_paleocene_clastics_thickness.ipynb\" target=\"_parent\"><img src=\"https://colab.research.google.com/assets/colab-badge.svg\" alt=\"Open In Colab\"/></a>"
   ]
  },
  {
   "cell_type": "markdown",
   "metadata": {
    "colab_type": "text",
    "id": "XFD9wpgroZlZ"
   },
   "source": [
    "# Geostatistical Analysis of Libyan Clastic Thickness\n",
    "\n",
    "After [*Geostatistical Analysis of Libyan Clastic Thickness*](http://www.wvgs.wvnet.edu/www/geostat/Libya3.PDF) by Hohn (1999).\n",
    "\n"
   ]
  },
  {
   "cell_type": "code",
   "execution_count": 0,
   "metadata": {
    "colab": {},
    "colab_type": "code",
    "id": "CWBVKGUwnypg"
   },
   "outputs": [],
   "source": [
    "import pandas as pd"
   ]
  },
  {
   "cell_type": "code",
   "execution_count": 10,
   "metadata": {
    "colab": {
     "base_uri": "https://localhost:8080/",
     "height": 200
    },
    "colab_type": "code",
    "id": "j2xzPt4mqXyF",
    "outputId": "1784083f-6eff-405d-a10a-f63d937667fa"
   },
   "outputs": [
    {
     "data": {
      "text/html": [
       "<div>\n",
       "<style scoped>\n",
       "    .dataframe tbody tr th:only-of-type {\n",
       "        vertical-align: middle;\n",
       "    }\n",
       "\n",
       "    .dataframe tbody tr th {\n",
       "        vertical-align: top;\n",
       "    }\n",
       "\n",
       "    .dataframe thead th {\n",
       "        text-align: right;\n",
       "    }\n",
       "</style>\n",
       "<table border=\"1\" class=\"dataframe\">\n",
       "  <thead>\n",
       "    <tr style=\"text-align: right;\">\n",
       "      <th></th>\n",
       "      <th>Index</th>\n",
       "      <th>Easting</th>\n",
       "      <th>Northing</th>\n",
       "      <th>Thickness</th>\n",
       "    </tr>\n",
       "  </thead>\n",
       "  <tbody>\n",
       "    <tr>\n",
       "      <th>0</th>\n",
       "      <td>1</td>\n",
       "      <td>0.0</td>\n",
       "      <td>24.0</td>\n",
       "      <td>1848</td>\n",
       "    </tr>\n",
       "    <tr>\n",
       "      <th>1</th>\n",
       "      <td>2</td>\n",
       "      <td>2.5</td>\n",
       "      <td>20.0</td>\n",
       "      <td>1806</td>\n",
       "    </tr>\n",
       "    <tr>\n",
       "      <th>2</th>\n",
       "      <td>3</td>\n",
       "      <td>4.0</td>\n",
       "      <td>25.0</td>\n",
       "      <td>2220</td>\n",
       "    </tr>\n",
       "    <tr>\n",
       "      <th>3</th>\n",
       "      <td>4</td>\n",
       "      <td>1.0</td>\n",
       "      <td>11.0</td>\n",
       "      <td>2513</td>\n",
       "    </tr>\n",
       "    <tr>\n",
       "      <th>4</th>\n",
       "      <td>5</td>\n",
       "      <td>6.0</td>\n",
       "      <td>0.0</td>\n",
       "      <td>3209</td>\n",
       "    </tr>\n",
       "  </tbody>\n",
       "</table>\n",
       "</div>"
      ],
      "text/plain": [
       "   Index  Easting  Northing  Thickness\n",
       "0      1      0.0      24.0       1848\n",
       "1      2      2.5      20.0       1806\n",
       "2      3      4.0      25.0       2220\n",
       "3      4      1.0      11.0       2513\n",
       "4      5      6.0       0.0       3209"
      ]
     },
     "execution_count": 10,
     "metadata": {
      "tags": []
     },
     "output_type": "execute_result"
    }
   ],
   "source": [
    "thickness_df = pd.read_csv('https://raw.githubusercontent.com/nshea3/geostats/master/Libya_paleocene_clastics_thickness/data/appb.txt', delim_whitespace=True, skiprows = 6, names=['Index', 'Easting', 'Northing', 'Thickness'])\n",
    "thickness_df.head()"
   ]
  },
  {
   "cell_type": "code",
   "execution_count": 18,
   "metadata": {
    "colab": {
     "base_uri": "https://localhost:8080/",
     "height": 255
    },
    "colab_type": "code",
    "id": "cgthucOfsQXE",
    "outputId": "ca0896b8-4907-4472-9191-688da8ee7fe8"
   },
   "outputs": [
    {
     "data": {
      "image/png": "[encoded data removed]",
      "text/plain": [
       "<Figure size 432x288 with 2 Axes>"
      ]
     },
     "metadata": {
      "tags": []
     },
     "output_type": "display_data"
    }
   ],
   "source": [
    "import matplotlib.pyplot as plt\n",
    "\n",
    "%matplotlib inline\n",
    "\n",
    "ax = thickness_df.plot.scatter('Easting', 'Northing', c='Thickness')\n",
    "x0,x1 = ax.get_xlim()\n",
    "y0,y1 = ax.get_ylim()\n",
    "ax.set_aspect(abs(x1-x0)/abs(y1-y0))"
   ]
  },
  {
   "cell_type": "code",
   "execution_count": 19,
   "metadata": {
    "colab": {
     "base_uri": "https://localhost:8080/",
     "height": 106
    },
    "colab_type": "code",
    "id": "Sz-LJDbtwWmn",
    "outputId": "accc3073-8ac7-4ec9-9d07-92e31f609282"
   },
   "outputs": [
    {
     "name": "stdout",
     "output_type": "stream",
     "text": [
      "Collecting geostatspy\n",
      "\u001b[?25l  Downloading https://files.pythonhosted.org/packages/63/59/d82eab4fe30ac18de82a3eea1e0bf063b2493295ba5f1b9a8e39b8bc9d0b/geostatspy-0.0.18-py3-none-any.whl (49kB)\n",
      "\u001b[K     |████████████████████████████████| 51kB 3.3MB/s \n",
      "\u001b[?25hInstalling collected packages: geostatspy\n",
      "Successfully installed geostatspy-0.0.18\n"
     ]
    }
   ],
   "source": [
    "!pip install geostatspy"
   ]
  },
  {
   "cell_type": "code",
   "execution_count": 0,
   "metadata": {
    "colab": {},
    "colab_type": "code",
    "id": "WZOAaw1IxxTd"
   },
   "outputs": [],
   "source": [
    "from geostatspy.geostats import declus"
   ]
  },
  {
   "cell_type": "markdown",
   "metadata": {
    "colab_type": "text",
    "id": "COTp0dSY3beu"
   },
   "source": [
    "Cell declustering explained via [Clayton Deutsch's Geostatistics Lessons](http://www.geostatisticslessons.com/lessons/celldeclustering.html)."
   ]
  },
  {
   "cell_type": "code",
   "execution_count": 65,
   "metadata": {
    "colab": {
     "base_uri": "https://localhost:8080/",
     "height": 358
    },
    "colab_type": "code",
    "id": "R0qB_75wyF8R",
    "outputId": "e71d3f67-4cee-43c8-89e9-2bed11930408"
   },
   "outputs": [
    {
     "name": "stdout",
     "output_type": "stream",
     "text": [
      "There are 39 data with:\n",
      "   mean of      2489.897435897436 \n",
      "   min and max  1439 and 3941\n",
      "   standard dev 586.624931275023 \n"
     ]
    },
    {
     "data": {
      "text/plain": [
       "(39,)"
      ]
     },
     "execution_count": 65,
     "metadata": {
      "tags": []
     },
     "output_type": "execute_result"
    },
    {
     "data": {
      "image/png": "[encoded data removed]",
      "text/plain": [
       "<Figure size 432x288 with 1 Axes>"
      ]
     },
     "metadata": {
      "tags": []
     },
     "output_type": "display_data"
    }
   ],
   "source": [
    "wtopt, xcs_mat, vrcr_mat = declus(thickness_df, 'Easting', 'Northing', 'Thickness', 0, 5, 20, 1, 20)\n",
    "\n",
    "\n",
    "ax = plt.subplot()\n",
    "ax.plot(xcs_mat, vrcr_mat, 'o')\n",
    "ax.set_ylim([2450,2750])\n",
    "\n",
    "wtopt.shape"
   ]
  },
  {
   "cell_type": "code",
   "execution_count": 66,
   "metadata": {
    "colab": {
     "base_uri": "https://localhost:8080/",
     "height": 287
    },
    "colab_type": "code",
    "id": "zYoQ-HkMIBMq",
    "outputId": "dbc83a2a-0caa-4061-9100-5bb7715bbd95"
   },
   "outputs": [
    {
     "data": {
      "text/plain": [
       "<matplotlib.axes._subplots.AxesSubplot at 0x7f80ff3924e0>"
      ]
     },
     "execution_count": 66,
     "metadata": {
      "tags": []
     },
     "output_type": "execute_result"
    },
    {
     "data": {
      "image/png": "[encoded data removed]",
      "text/plain": [
       "<Figure size 432x288 with 1 Axes>"
      ]
     },
     "metadata": {
      "tags": []
     },
     "output_type": "display_data"
    }
   ],
   "source": [
    "thickness_df['Thickness'].hist(bins=range(1200,4200,100))"
   ]
  },
  {
   "cell_type": "code",
   "execution_count": 77,
   "metadata": {
    "colab": {
     "base_uri": "https://localhost:8080/",
     "height": 287
    },
    "colab_type": "code",
    "id": "bIyDgLCaIZLR",
    "outputId": "bcdf1f21-d9bc-4a2f-a6b0-77162edb30bb"
   },
   "outputs": [
    {
     "data": {
      "text/plain": [
       "<matplotlib.axes._subplots.AxesSubplot at 0x7f80ff11d940>"
      ]
     },
     "execution_count": 77,
     "metadata": {
      "tags": []
     },
     "output_type": "execute_result"
    },
    {
     "data": {
      "image/png": "[encoded data removed]",
      "text/plain": [
       "<Figure size 432x288 with 1 Axes>"
      ]
     },
     "metadata": {
      "tags": []
     },
     "output_type": "display_data"
    }
   ],
   "source": [
    "sum_weights = sum(wtopt)\n",
    "thickness_df['Thickness_weighted'] = thickness_df['Thickness'] * wtopt\n",
    "thickness_df['Thickness_weighted'].hist(bins=range(1200,4200,100))"
   ]
  },
  {
   "cell_type": "code",
   "execution_count": 70,
   "metadata": {
    "colab": {
     "base_uri": "https://localhost:8080/",
     "height": 358
    },
    "colab_type": "code",
    "id": "LXlpA7VmLfsb",
    "outputId": "3e448f39-d236-4b75-bf97-e9669ba2f745"
   },
   "outputs": [
    {
     "data": {
      "text/plain": [
       "(array([17., 11.,  5.,  1.,  2.,  1.,  0.,  0.,  0.,  2.]),\n",
       " array([0.44705387, 0.74179293, 1.03653199, 1.33127104, 1.6260101 ,\n",
       "        1.92074916, 2.21548822, 2.51022727, 2.80496633, 3.09970539,\n",
       "        3.39444444]),\n",
       " <a list of 10 Patch objects>)"
      ]
     },
     "execution_count": 70,
     "metadata": {
      "tags": []
     },
     "output_type": "execute_result"
    },
    {
     "data": {
      "image/png": "[encoded data removed]",
      "text/plain": [
       "<Figure size 432x288 with 1 Axes>"
      ]
     },
     "metadata": {
      "tags": []
     },
     "output_type": "display_data"
    }
   ],
   "source": [
    "plt.hist(wtopt)"
   ]
  },
  {
   "cell_type": "code",
   "execution_count": 0,
   "metadata": {
    "colab": {},
    "colab_type": "code",
    "id": "g9RpOh9Pl_Eo"
   },
   "outputs": [],
   "source": []
  }
 ],
 "metadata": {
  "colab": {
   "collapsed_sections": [],
   "include_colab_link": true,
   "name": "Libya_paleocene_clastics_thickness.ipynb",
   "provenance": [],
   "version": "0.3.2"
  },
  "kernelspec": {
   "display_name": "Python 3",
   "language": "python",
   "name": "python3"
  },
  "language_info": {
   "codemirror_mode": {
    "name": "ipython",
    "version": 3
   },
   "file_extension": ".py",
   "mimetype": "text/x-python",
   "name": "python",
   "nbconvert_exporter": "python",
   "pygments_lexer": "ipython3",
   "version": "3.7.3"
  }
 },
 "nbformat": 4,
 "nbformat_minor": 1
}
