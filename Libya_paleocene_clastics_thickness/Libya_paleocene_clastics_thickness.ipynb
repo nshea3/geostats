{
  "nbformat": 4,
  "nbformat_minor": 0,
  "metadata": {
    "colab": {
      "name": "Libya_paleocene_clastics_thickness.ipynb",
      "version": "0.3.2",
      "provenance": [],
      "collapsed_sections": [],
      "include_colab_link": true
    },
    "kernelspec": {
      "name": "python3",
      "display_name": "Python 3"
    }
  },
  "cells": [
    {
      "cell_type": "markdown",
      "metadata": {
        "id": "view-in-github",
        "colab_type": "text"
      },
      "source": [
        "<a href=\"https://colab.research.google.com/github/nshea3/geostats/blob/master/Libya_paleocene_clastics_thickness/Libya_paleocene_clastics_thickness.ipynb\" target=\"_parent\"><img src=\"https://colab.research.google.com/assets/colab-badge.svg\" alt=\"Open In Colab\"/></a>"
      ]
    },
    {
      "cell_type": "markdown",
      "metadata": {
        "id": "XFD9wpgroZlZ",
        "colab_type": "text"
      },
      "source": [
        "# Geostatistical Analysis of Libyan Clastic Thickness\n",
        "\n",
        "After [*Geostatistical Analysis of Libyan Clastic Thickness*](http://www.wvgs.wvnet.edu/www/geostat/Libya3.PDF) by Hohn (1999).\n",
        "\n"
      ]
    },
    {
      "cell_type": "code",
      "metadata": {
        "id": "CWBVKGUwnypg",
        "colab_type": "code",
        "colab": {}
      },
      "source": [
        "import pandas as pd"
      ],
      "execution_count": 0,
      "outputs": []
    },
    {
      "cell_type": "code",
      "metadata": {
        "id": "j2xzPt4mqXyF",
        "colab_type": "code",
        "colab": {
          "base_uri": "https://localhost:8080/",
          "height": 202
        },
        "outputId": "1784083f-6eff-405d-a10a-f63d937667fa"
      },
      "source": [
        "thickness_df = pd.read_csv('https://raw.githubusercontent.com/nshea3/geostats/master/Libya_paleocene_clastics_thickness/data/appb.txt', delim_whitespace=True, skiprows = 6, names=['Index', 'Easting', 'Northing', 'Thickness'])\n",
        "thickness_df.head()"
      ],
      "execution_count": 10,
      "outputs": [
        {
          "output_type": "execute_result",
          "data": {
            "text/html": [
              "<div>\n",
              "<style scoped>\n",
              "    .dataframe tbody tr th:only-of-type {\n",
              "        vertical-align: middle;\n",
              "    }\n",
              "\n",
              "    .dataframe tbody tr th {\n",
              "        vertical-align: top;\n",
              "    }\n",
              "\n",
              "    .dataframe thead th {\n",
              "        text-align: right;\n",
              "    }\n",
              "</style>\n",
              "<table border=\"1\" class=\"dataframe\">\n",
              "  <thead>\n",
              "    <tr style=\"text-align: right;\">\n",
              "      <th></th>\n",
              "      <th>Index</th>\n",
              "      <th>Easting</th>\n",
              "      <th>Northing</th>\n",
              "      <th>Thickness</th>\n",
              "    </tr>\n",
              "  </thead>\n",
              "  <tbody>\n",
              "    <tr>\n",
              "      <th>0</th>\n",
              "      <td>1</td>\n",
              "      <td>0.0</td>\n",
              "      <td>24.0</td>\n",
              "      <td>1848</td>\n",
              "    </tr>\n",
              "    <tr>\n",
              "      <th>1</th>\n",
              "      <td>2</td>\n",
              "      <td>2.5</td>\n",
              "      <td>20.0</td>\n",
              "      <td>1806</td>\n",
              "    </tr>\n",
              "    <tr>\n",
              "      <th>2</th>\n",
              "      <td>3</td>\n",
              "      <td>4.0</td>\n",
              "      <td>25.0</td>\n",
              "      <td>2220</td>\n",
              "    </tr>\n",
              "    <tr>\n",
              "      <th>3</th>\n",
              "      <td>4</td>\n",
              "      <td>1.0</td>\n",
              "      <td>11.0</td>\n",
              "      <td>2513</td>\n",
              "    </tr>\n",
              "    <tr>\n",
              "      <th>4</th>\n",
              "      <td>5</td>\n",
              "      <td>6.0</td>\n",
              "      <td>0.0</td>\n",
              "      <td>3209</td>\n",
              "    </tr>\n",
              "  </tbody>\n",
              "</table>\n",
              "</div>"
            ],
            "text/plain": [
              "   Index  Easting  Northing  Thickness\n",
              "0      1      0.0      24.0       1848\n",
              "1      2      2.5      20.0       1806\n",
              "2      3      4.0      25.0       2220\n",
              "3      4      1.0      11.0       2513\n",
              "4      5      6.0       0.0       3209"
            ]
          },
          "metadata": {
            "tags": []
          },
          "execution_count": 10
        }
      ]
    },
    {
      "cell_type": "code",
      "metadata": {
        "id": "cgthucOfsQXE",
        "colab_type": "code",
        "colab": {
          "base_uri": "https://localhost:8080/",
          "height": 255
        },
        "outputId": "ca0896b8-4907-4472-9191-688da8ee7fe8"
      },
      "source": [
        "import matplotlib.pyplot as plt\n",
        "\n",
        "%matplotlib inline\n",
        "\n",
        "ax = thickness_df.plot.scatter('Easting', 'Northing', c='Thickness')\n",
        "x0,x1 = ax.get_xlim()\n",
        "y0,y1 = ax.get_ylim()\n",
        "ax.set_aspect(abs(x1-x0)/abs(y1-y0))"
      ],
      "execution_count": 18,
      "outputs": [
        {
          "output_type": "display_data",
          "data": {
            "image/png": "[encoded data removed]",
            "text/plain": [
              "<Figure size 432x288 with 2 Axes>"
            ]
          },
          "metadata": {
            "tags": []
          }
        }
      ]
    },
    {
      "cell_type": "code",
      "metadata": {
        "id": "Sz-LJDbtwWmn",
        "colab_type": "code",
        "colab": {
          "base_uri": "https://localhost:8080/",
          "height": 124
        },
        "outputId": "accc3073-8ac7-4ec9-9d07-92e31f609282"
      },
      "source": [
        "!pip install geostatspy"
      ],
      "execution_count": 19,
      "outputs": [
        {
          "output_type": "stream",
          "text": [
            "Collecting geostatspy\n",
            "\u001b[?25l  Downloading https://files.pythonhosted.org/packages/63/59/d82eab4fe30ac18de82a3eea1e0bf063b2493295ba5f1b9a8e39b8bc9d0b/geostatspy-0.0.18-py3-none-any.whl (49kB)\n",
            "\u001b[K     |████████████████████████████████| 51kB 3.3MB/s \n",
            "\u001b[?25hInstalling collected packages: geostatspy\n",
            "Successfully installed geostatspy-0.0.18\n"
          ],
          "name": "stdout"
        }
      ]
    },
    {
      "cell_type": "code",
      "metadata": {
        "id": "WZOAaw1IxxTd",
        "colab_type": "code",
        "colab": {}
      },
      "source": [
        "from geostatspy.geostats import declus"
      ],
      "execution_count": 0,
      "outputs": []
    },
    {
      "cell_type": "code",
      "metadata": {
        "id": "R0qB_75wyF8R",
        "colab_type": "code",
        "colab": {
          "base_uri": "https://localhost:8080/",
          "height": 901
        },
        "outputId": "f6829e51-8cdb-48ac-d545-b554e3e5fe16"
      },
      "source": [
        "declus(thickness_df, 'Easting', 'Northing', 'Thickness', 1, 10, 100, 1, 100)"
      ],
      "execution_count": 22,
      "outputs": [
        {
          "output_type": "stream",
          "text": [
            "There are 39 data with:\n",
            "   mean of      2489.897435897436 \n",
            "   min and max  1439 and 3941\n",
            "   standard dev 586.624931275023 \n"
          ],
          "name": "stdout"
        },
        {
          "output_type": "execute_result",
          "data": {
            "text/plain": [
              "(array([1.01315789, 1.01315789, 1.01315789, 1.01315789, 1.01315789,\n",
              "        1.01315789, 1.01315789, 1.01315789, 1.01315789, 1.01315789,\n",
              "        1.01315789, 1.01315789, 1.01315789, 1.01315789, 1.01315789,\n",
              "        1.01315789, 1.01315789, 1.01315789, 1.01315789, 1.01315789,\n",
              "        1.01315789, 1.01315789, 1.01315789, 1.01315789, 0.75657895,\n",
              "        1.01315789, 1.01315789, 1.01315789, 1.01315789, 1.01315789,\n",
              "        0.75657895, 1.01315789, 1.01315789, 1.01315789, 1.01315789,\n",
              "        1.01315789, 1.01315789, 1.01315789, 1.01315789]),\n",
              " array([  0.  ,   1.  ,   1.99,   2.98,   3.97,   4.96,   5.95,   6.94,\n",
              "          7.93,   8.92,   9.91,  10.9 ,  11.89,  12.88,  13.87,  14.86,\n",
              "         15.85,  16.84,  17.83,  18.82,  19.81,  20.8 ,  21.79,  22.78,\n",
              "         23.77,  24.76,  25.75,  26.74,  27.73,  28.72,  29.71,  30.7 ,\n",
              "         31.69,  32.68,  33.67,  34.66,  35.65,  36.64,  37.63,  38.62,\n",
              "         39.61,  40.6 ,  41.59,  42.58,  43.57,  44.56,  45.55,  46.54,\n",
              "         47.53,  48.52,  49.51,  50.5 ,  51.49,  52.48,  53.47,  54.46,\n",
              "         55.45,  56.44,  57.43,  58.42,  59.41,  60.4 ,  61.39,  62.38,\n",
              "         63.37,  64.36,  65.35,  66.34,  67.33,  68.32,  69.31,  70.3 ,\n",
              "         71.29,  72.28,  73.27,  74.26,  75.25,  76.24,  77.23,  78.22,\n",
              "         79.21,  80.2 ,  81.19,  82.18,  83.17,  84.16,  85.15,  86.14,\n",
              "         87.13,  88.12,  89.11,  90.1 ,  91.09,  92.08,  93.07,  94.06,\n",
              "         95.05,  96.04,  97.03,  98.02,  99.01, 100.  ]),\n",
              " array([2489.8974359 , 2489.8974359 , 2486.02108637, 2486.66437855,\n",
              "        2488.71731347, 2515.86596544, 2556.34308737, 2548.18851039,\n",
              "        2575.34959899, 2602.16669704, 2612.44573237, 2611.4053835 ,\n",
              "        2640.29937105, 2651.37788019, 2652.57456067, 2661.82682441,\n",
              "        2618.61208302, 2627.3205358 , 2630.39171907, 2612.25030058,\n",
              "        2623.52957765, 2605.9417515 , 2582.24250125, 2610.42657404,\n",
              "        2622.29651366, 2615.61620496, 2636.46526942, 2634.07030828,\n",
              "        2623.15357371, 2645.44875878, 2650.51999362, 2596.34404161,\n",
              "        2626.49106035, 2629.35837874, 2586.66265929, 2595.87985867,\n",
              "        2606.21859547, 2612.39402705, 2562.18006164, 2569.78209841,\n",
              "        2586.12049555, 2588.90417309, 2600.91556066, 2598.9635704 ,\n",
              "        2541.01145433, 2546.97603766, 2551.20526453, 2583.42545598,\n",
              "        2595.46069381, 2592.2233877 , 2593.20461081, 2561.09329931,\n",
              "        2559.6648428 , 2554.2044447 , 2551.07678597, 2554.18742967,\n",
              "        2568.68240714, 2575.25685434, 2585.04345131, 2597.39327621,\n",
              "        2598.26576298, 2541.34072274, 2542.32194586, 2551.32694586,\n",
              "        2557.67662777, 2557.67662777, 2552.21622967, 2552.21622967,\n",
              "        2553.52623515, 2551.40530303, 2565.44275688, 2557.29514354,\n",
              "        2568.97683666, 2572.08748036, 2569.65440044, 2569.65440044,\n",
              "        2519.70477545, 2519.70477545, 2527.45405653, 2527.45405653,\n",
              "        2528.3265433 , 2526.64320513, 2526.64320513, 2527.62442825,\n",
              "        2529.57221379, 2535.07008159, 2532.86613262, 2532.86613262,\n",
              "        2527.40573452, 2533.37031785, 2533.37031785, 2533.37031785,\n",
              "        2533.14602964, 2548.61194   , 2557.61694   , 2557.61694   ,\n",
              "        2569.29863313, 2569.34457063, 2568.17371293, 2568.17371293,\n",
              "        2568.17371293, 2568.17371293]))"
            ]
          },
          "metadata": {
            "tags": []
          },
          "execution_count": 22
        }
      ]
    }
  ]
}