{
 "cells": [
  {
   "cell_type": "code",
   "execution_count": 1,
   "metadata": {},
   "outputs": [],
   "source": [
    "import numpy as np\n",
    "import seaborn as sns\n"
   ]
  },
  {
   "cell_type": "code",
   "execution_count": 2,
   "metadata": {},
   "outputs": [
    {
     "data": {
      "image/png": "[encoded data removed]",
      "text/plain": [
       "<Figure size 432x288 with 2 Axes>"
      ]
     },
     "metadata": {
      "needs_background": "light"
     },
     "output_type": "display_data"
    }
   ],
   "source": [
    "acid_concentration = [21,43,20,9,12,9,25,12,20,26,30,11,19,19,17,23,15,15,23,14,25,2,23,0,12]\n",
    "\n",
    "acid_conc_arr = np.asarray(acid_concentration)\n",
    "\n",
    "acid_conc_arr = np.reshape(acid_conc_arr, (5,5))\n",
    "\n",
    "heatmap = sns.heatmap(acid_conc_arr, cmap=\"coolwarm\")"
   ]
  },
  {
   "cell_type": "code",
   "execution_count": 4,
   "metadata": {},
   "outputs": [],
   "source": [
    "from scipy.spatial import distance\n",
    "import itertools\n",
    "\n",
    "\n",
    "coords = np.asarray(list(itertools.product(range(5), range(5))))\n",
    "\n",
    "pairs = np.asarray(list(itertools.permutations(coords, 2)))\n",
    "\n",
    "dist_arr = distance.cdist(coords, coords)\n"
   ]
  },
  {
   "cell_type": "code",
   "execution_count": 15,
   "metadata": {},
   "outputs": [
    {
     "data": {
      "text/plain": [
       "(array([ 0,  0,  1,  1,  2,  2,  2,  3,  3,  4,  4,  5,  5,  6,  6,  7,  7,\n",
       "         7,  8,  8,  9,  9, 10, 10, 10, 11, 11, 11, 12, 12, 12, 12, 13, 13,\n",
       "        13, 14, 14, 14, 15, 15, 16, 16, 17, 17, 17, 18, 18, 19, 19, 20, 20,\n",
       "        21, 21, 22, 22, 22, 23, 23, 24, 24], dtype=int64),\n",
       " array([ 2, 10,  3, 11,  0,  4, 12,  1, 13,  2, 14,  7, 15,  8, 16,  5,  9,\n",
       "        17,  6, 18,  7, 19,  0, 12, 20,  1, 13, 21,  2, 10, 14, 22,  3, 11,\n",
       "        23,  4, 12, 24,  5, 17,  6, 18,  7, 15, 19,  8, 16,  9, 17, 10, 22,\n",
       "        11, 23, 12, 20, 24, 13, 21, 14, 22], dtype=int64))"
      ]
     },
     "execution_count": 15,
     "metadata": {},
     "output_type": "execute_result"
    }
   ],
   "source": [
    "np.where(dist_arr == 2)"
   ]
  },
  {
   "cell_type": "code",
   "execution_count": 16,
   "metadata": {},
   "outputs": [
    {
     "data": {
      "text/plain": [
       "60"
      ]
     },
     "execution_count": 16,
     "metadata": {},
     "output_type": "execute_result"
    }
   ],
   "source": [
    "len(np.where(dist_arr == 2)[0])"
   ]
  },
  {
   "cell_type": "code",
   "execution_count": 21,
   "metadata": {},
   "outputs": [
    {
     "data": {
      "text/plain": [
       "21"
      ]
     },
     "execution_count": 21,
     "metadata": {},
     "output_type": "execute_result"
    }
   ],
   "source": [
    "acid_conc_arr[0,0]"
   ]
  },
  {
   "cell_type": "code",
   "execution_count": 25,
   "metadata": {},
   "outputs": [],
   "source": [
    "diffs = [(acid_conc_arr[coords[a][0], coords[a][1]], acid_conc_arr[coords[b][0], coords[b][1]]) for (a,b) in zip(*np.where(dist_arr == 2))]"
   ]
  },
  {
   "cell_type": "code",
   "execution_count": 28,
   "metadata": {},
   "outputs": [],
   "source": [
    "lag_results = []\n",
    "\n",
    "for lag in range(1,4):\n",
    "    diffs = [(acid_conc_arr[coords[a][0], coords[a][1]], acid_conc_arr[coords[b][0], coords[b][1]]) for (a,b) in zip(*np.where(dist_arr == lag))]\n",
    "    lag_results.append(sum([(a[0] - a[1])**2 for a in diffs])/(2*len(diffs)))"
   ]
  },
  {
   "cell_type": "code",
   "execution_count": 29,
   "metadata": {},
   "outputs": [
    {
     "data": {
      "text/plain": [
       "[80.525, 68.25, 115.625]"
      ]
     },
     "execution_count": 29,
     "metadata": {},
     "output_type": "execute_result"
    }
   ],
   "source": [
    "lag_results"
   ]
  },
  {
   "cell_type": "code",
   "execution_count": 31,
   "metadata": {},
   "outputs": [
    {
     "data": {
      "text/plain": [
       "<matplotlib.axes._subplots.AxesSubplot at 0x2912c3dd7f0>"
      ]
     },
     "execution_count": 31,
     "metadata": {},
     "output_type": "execute_result"
    },
    {
     "data": {
      "image/png": "[encoded data removed]",
      "text/plain": [
       "<Figure size 432x288 with 1 Axes>"
      ]
     },
     "metadata": {
      "needs_background": "light"
     },
     "output_type": "display_data"
    }
   ],
   "source": [
    "sns.lineplot(x = range(1,4), y=lag_results)"
   ]
  }
 ],
 "metadata": {
  "kernelspec": {
   "display_name": "Python 3",
   "language": "python",
   "name": "python3"
  },
  "language_info": {
   "codemirror_mode": {
    "name": "ipython",
    "version": 3
   },
   "file_extension": ".py",
   "mimetype": "text/x-python",
   "name": "python",
   "nbconvert_exporter": "python",
   "pygments_lexer": "ipython3",
   "version": "3.7.3"
  }
 },
 "nbformat": 4,
 "nbformat_minor": 2
}
