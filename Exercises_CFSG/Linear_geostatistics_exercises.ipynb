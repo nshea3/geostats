{
 "cells": [
  {
   "cell_type": "code",
   "execution_count": 33,
   "metadata": {},
   "outputs": [],
   "source": [
    "import numpy as np\n",
    "import pandas as pd\n",
    "import qgrid\n",
    "\n",
    "import matplotlib.pyplot as plt\n",
    "%matplotlib inline"
   ]
  },
  {
   "cell_type": "code",
   "execution_count": 2,
   "metadata": {},
   "outputs": [
    {
     "data": {
      "application/vnd.jupyter.widget-view+json": {
       "model_id": "2a36d55d585e4c4188804f1645ad0cb4",
       "version_major": 2,
       "version_minor": 0
      },
      "text/plain": [
       "QgridWidget(grid_options={'fullWidthRows': True, 'syncColumnCellResize': True, 'forceFitColumns': True, 'defau…"
      ]
     },
     "metadata": {},
     "output_type": "display_data"
    }
   ],
   "source": [
    "pollution_loaded = pd.DataFrame(np.zeros((10,10)))\n",
    "qgrid_widget = qgrid.show_grid(pollution_loaded, show_toolbar=True)\n",
    "\n",
    "qgrid_widget\n"
   ]
  },
  {
   "cell_type": "code",
   "execution_count": 4,
   "metadata": {},
   "outputs": [],
   "source": [
    "updated_pollution = qgrid_widget.get_changed_df()\n"
   ]
  },
  {
   "cell_type": "code",
   "execution_count": 9,
   "metadata": {},
   "outputs": [],
   "source": [
    "actual_pollution = pd.DataFrame(np.array([[ 0.,  0.,  0., 39.,  0.,  0.,  0.,  0.,  0.,  0.],\n",
    "       [ 0.,  0., 33., 43., 33.,  0.,  0.,  0.,  0.,  0.],\n",
    "       [ 0.,  0.,  0., 32.,  0.,  0.,  0.,  0.,  0.,  0.],\n",
    "       [ 0.,  0.,  0.,  0.,  0.,  0.,  0.,  0.,  0., 26.],\n",
    "       [ 0.,  0.,  0.,  0.,  0.,  0.,  0.,  0.,  0., 28.],\n",
    "       [ 0.,  0.,  0.,  0.,  0.,  0.,  0.,  0., 35.,  0.],\n",
    "       [ 0.,  0.,  0.,  0.,  0.,  0.,  0.,  0., 29.,  0.],\n",
    "       [ 0.,  0.,  0.,  0.,  0.,  0.,  0.,  0.,  0.,  0.],\n",
    "       [ 0.,  0.,  0.,  0., 28.,  0.,  0.,  0.,  0.,  0.],\n",
    "       [ 0.,  0.,  0.,  0.,  0.,  0.,  0.,  0.,  0.,  0.]]))"
   ]
  },
  {
   "cell_type": "code",
   "execution_count": 22,
   "metadata": {},
   "outputs": [],
   "source": [
    "actual_pollution[actual_pollution == 0.0] = np.nan"
   ]
  },
  {
   "cell_type": "code",
   "execution_count": 23,
   "metadata": {},
   "outputs": [
    {
     "data": {
      "text/html": [
       "<div>\n",
       "<style scoped>\n",
       "    .dataframe tbody tr th:only-of-type {\n",
       "        vertical-align: middle;\n",
       "    }\n",
       "\n",
       "    .dataframe tbody tr th {\n",
       "        vertical-align: top;\n",
       "    }\n",
       "\n",
       "    .dataframe thead th {\n",
       "        text-align: right;\n",
       "    }\n",
       "</style>\n",
       "<table border=\"1\" class=\"dataframe\">\n",
       "  <thead>\n",
       "    <tr style=\"text-align: right;\">\n",
       "      <th></th>\n",
       "      <th>0</th>\n",
       "      <th>1</th>\n",
       "      <th>2</th>\n",
       "      <th>3</th>\n",
       "      <th>4</th>\n",
       "      <th>5</th>\n",
       "      <th>6</th>\n",
       "      <th>7</th>\n",
       "      <th>8</th>\n",
       "      <th>9</th>\n",
       "    </tr>\n",
       "  </thead>\n",
       "  <tbody>\n",
       "    <tr>\n",
       "      <th>0</th>\n",
       "      <td>NaN</td>\n",
       "      <td>NaN</td>\n",
       "      <td>NaN</td>\n",
       "      <td>39.0</td>\n",
       "      <td>NaN</td>\n",
       "      <td>NaN</td>\n",
       "      <td>NaN</td>\n",
       "      <td>NaN</td>\n",
       "      <td>NaN</td>\n",
       "      <td>NaN</td>\n",
       "    </tr>\n",
       "    <tr>\n",
       "      <th>1</th>\n",
       "      <td>NaN</td>\n",
       "      <td>NaN</td>\n",
       "      <td>33.0</td>\n",
       "      <td>43.0</td>\n",
       "      <td>33.0</td>\n",
       "      <td>NaN</td>\n",
       "      <td>NaN</td>\n",
       "      <td>NaN</td>\n",
       "      <td>NaN</td>\n",
       "      <td>NaN</td>\n",
       "    </tr>\n",
       "    <tr>\n",
       "      <th>2</th>\n",
       "      <td>NaN</td>\n",
       "      <td>NaN</td>\n",
       "      <td>NaN</td>\n",
       "      <td>32.0</td>\n",
       "      <td>NaN</td>\n",
       "      <td>NaN</td>\n",
       "      <td>NaN</td>\n",
       "      <td>NaN</td>\n",
       "      <td>NaN</td>\n",
       "      <td>NaN</td>\n",
       "    </tr>\n",
       "    <tr>\n",
       "      <th>3</th>\n",
       "      <td>NaN</td>\n",
       "      <td>NaN</td>\n",
       "      <td>NaN</td>\n",
       "      <td>NaN</td>\n",
       "      <td>NaN</td>\n",
       "      <td>NaN</td>\n",
       "      <td>NaN</td>\n",
       "      <td>NaN</td>\n",
       "      <td>NaN</td>\n",
       "      <td>26.0</td>\n",
       "    </tr>\n",
       "    <tr>\n",
       "      <th>4</th>\n",
       "      <td>NaN</td>\n",
       "      <td>NaN</td>\n",
       "      <td>NaN</td>\n",
       "      <td>NaN</td>\n",
       "      <td>NaN</td>\n",
       "      <td>NaN</td>\n",
       "      <td>NaN</td>\n",
       "      <td>NaN</td>\n",
       "      <td>NaN</td>\n",
       "      <td>28.0</td>\n",
       "    </tr>\n",
       "    <tr>\n",
       "      <th>5</th>\n",
       "      <td>NaN</td>\n",
       "      <td>NaN</td>\n",
       "      <td>NaN</td>\n",
       "      <td>NaN</td>\n",
       "      <td>NaN</td>\n",
       "      <td>NaN</td>\n",
       "      <td>NaN</td>\n",
       "      <td>NaN</td>\n",
       "      <td>35.0</td>\n",
       "      <td>NaN</td>\n",
       "    </tr>\n",
       "    <tr>\n",
       "      <th>6</th>\n",
       "      <td>NaN</td>\n",
       "      <td>NaN</td>\n",
       "      <td>NaN</td>\n",
       "      <td>NaN</td>\n",
       "      <td>NaN</td>\n",
       "      <td>NaN</td>\n",
       "      <td>NaN</td>\n",
       "      <td>NaN</td>\n",
       "      <td>29.0</td>\n",
       "      <td>NaN</td>\n",
       "    </tr>\n",
       "    <tr>\n",
       "      <th>7</th>\n",
       "      <td>NaN</td>\n",
       "      <td>NaN</td>\n",
       "      <td>NaN</td>\n",
       "      <td>NaN</td>\n",
       "      <td>NaN</td>\n",
       "      <td>NaN</td>\n",
       "      <td>NaN</td>\n",
       "      <td>NaN</td>\n",
       "      <td>NaN</td>\n",
       "      <td>NaN</td>\n",
       "    </tr>\n",
       "    <tr>\n",
       "      <th>8</th>\n",
       "      <td>NaN</td>\n",
       "      <td>NaN</td>\n",
       "      <td>NaN</td>\n",
       "      <td>NaN</td>\n",
       "      <td>28.0</td>\n",
       "      <td>NaN</td>\n",
       "      <td>NaN</td>\n",
       "      <td>NaN</td>\n",
       "      <td>NaN</td>\n",
       "      <td>NaN</td>\n",
       "    </tr>\n",
       "    <tr>\n",
       "      <th>9</th>\n",
       "      <td>NaN</td>\n",
       "      <td>NaN</td>\n",
       "      <td>NaN</td>\n",
       "      <td>NaN</td>\n",
       "      <td>NaN</td>\n",
       "      <td>NaN</td>\n",
       "      <td>NaN</td>\n",
       "      <td>NaN</td>\n",
       "      <td>NaN</td>\n",
       "      <td>NaN</td>\n",
       "    </tr>\n",
       "  </tbody>\n",
       "</table>\n",
       "</div>"
      ],
      "text/plain": [
       "    0   1     2     3     4   5   6   7     8     9\n",
       "0 NaN NaN   NaN  39.0   NaN NaN NaN NaN   NaN   NaN\n",
       "1 NaN NaN  33.0  43.0  33.0 NaN NaN NaN   NaN   NaN\n",
       "2 NaN NaN   NaN  32.0   NaN NaN NaN NaN   NaN   NaN\n",
       "3 NaN NaN   NaN   NaN   NaN NaN NaN NaN   NaN  26.0\n",
       "4 NaN NaN   NaN   NaN   NaN NaN NaN NaN   NaN  28.0\n",
       "5 NaN NaN   NaN   NaN   NaN NaN NaN NaN  35.0   NaN\n",
       "6 NaN NaN   NaN   NaN   NaN NaN NaN NaN  29.0   NaN\n",
       "7 NaN NaN   NaN   NaN   NaN NaN NaN NaN   NaN   NaN\n",
       "8 NaN NaN   NaN   NaN  28.0 NaN NaN NaN   NaN   NaN\n",
       "9 NaN NaN   NaN   NaN   NaN NaN NaN NaN   NaN   NaN"
      ]
     },
     "execution_count": 23,
     "metadata": {},
     "output_type": "execute_result"
    }
   ],
   "source": [
    "actual_pollution"
   ]
  },
  {
   "cell_type": "code",
   "execution_count": 24,
   "metadata": {},
   "outputs": [
    {
     "data": {
      "text/plain": [
       "nan"
      ]
     },
     "execution_count": 24,
     "metadata": {},
     "output_type": "execute_result"
    }
   ],
   "source": [
    "#Experimental mean: \n",
    "\n",
    "(actual_pollution.values.sum())/(np.count_nonzero(actual_pollution.values))"
   ]
  },
  {
   "cell_type": "code",
   "execution_count": 28,
   "metadata": {},
   "outputs": [
    {
     "data": {
      "text/plain": [
       "32.6"
      ]
     },
     "execution_count": 28,
     "metadata": {},
     "output_type": "execute_result"
    }
   ],
   "source": [
    "np.nanmean(actual_pollution.values)"
   ]
  },
  {
   "cell_type": "code",
   "execution_count": 29,
   "metadata": {},
   "outputs": [
    {
     "data": {
      "text/plain": [
       "25.439999999999998"
      ]
     },
     "execution_count": 29,
     "metadata": {},
     "output_type": "execute_result"
    }
   ],
   "source": [
    "#Variance\n",
    "np.nanvar(actual_pollution.values)"
   ]
  },
  {
   "cell_type": "code",
   "execution_count": 30,
   "metadata": {},
   "outputs": [
    {
     "data": {
      "text/plain": [
       "28.266666666666666"
      ]
     },
     "execution_count": 30,
     "metadata": {},
     "output_type": "execute_result"
    }
   ],
   "source": [
    "#Variance\n",
    "np.nanvar(actual_pollution.values, ddof =1 )"
   ]
  },
  {
   "cell_type": "code",
   "execution_count": 46,
   "metadata": {},
   "outputs": [
    {
     "data": {
      "text/plain": [
       "(array([0., 0., 0., 0., 0., 4., 3., 2., 1.]),\n",
       " array([ 0,  5, 10, 15, 20, 25, 30, 35, 40, 45]),\n",
       " <a list of 9 Patch objects>)"
      ]
     },
     "execution_count": 46,
     "metadata": {},
     "output_type": "execute_result"
    },
    {
     "data": {
      "image/png": "[encoded data removed]",
      "text/plain": [
       "<Figure size 432x288 with 1 Axes>"
      ]
     },
     "metadata": {
      "needs_background": "light"
     },
     "output_type": "display_data"
    }
   ],
   "source": [
    "plt.hist(actual_pollution.values.ravel(), bins=range(0,50,5))"
   ]
  },
  {
   "cell_type": "code",
   "execution_count": 47,
   "metadata": {},
   "outputs": [
    {
     "data": {
      "application/vnd.jupyter.widget-view+json": {
       "model_id": "91a6c23fafca4ac2832b9904320abbab",
       "version_major": 2,
       "version_minor": 0
      },
      "text/plain": [
       "QgridWidget(grid_options={'fullWidthRows': True, 'syncColumnCellResize': True, 'forceFitColumns': True, 'defau…"
      ]
     },
     "metadata": {},
     "output_type": "display_data"
    }
   ],
   "source": [
    "qgrid_widget2 = qgrid.show_grid(actual_pollution, show_toolbar=True)\n",
    "\n",
    "qgrid_widget2"
   ]
  },
  {
   "cell_type": "code",
   "execution_count": 49,
   "metadata": {},
   "outputs": [
    {
     "data": {
      "text/plain": [
       "array([[nan, nan, nan, 39., nan, nan, nan, nan, nan, nan],\n",
       "       [nan, nan, 33., 43., 33., nan, nan,  9., nan, nan],\n",
       "       [nan, nan, nan, 32., nan, nan, nan, nan, nan, nan],\n",
       "       [nan,  9., nan, nan, nan, 12., nan, nan, nan, 26.],\n",
       "       [nan, nan, 14., nan, nan, nan, nan, nan, nan, 28.],\n",
       "       [nan, nan, nan, nan, nan, 19., nan, nan, 35., nan],\n",
       "       [12., nan, nan, 17., nan, nan, nan, nan, 29., nan],\n",
       "       [nan, nan, nan, nan, nan, nan, nan, 23., nan, nan],\n",
       "       [15., nan, nan, nan, 28., nan, nan, nan, nan, nan],\n",
       "       [nan, nan, nan, nan, nan, nan, nan,  0., nan, nan]])"
      ]
     },
     "execution_count": 49,
     "metadata": {},
     "output_type": "execute_result"
    }
   ],
   "source": [
    "updated_pollution2 = qgrid_widget2.get_changed_df()\n",
    "updated_pollution2.values"
   ]
  },
  {
   "cell_type": "code",
   "execution_count": 52,
   "metadata": {},
   "outputs": [],
   "source": [
    "pollution_campaign_2 = pd.DataFrame(np.array([[np.nan, np.nan, np.nan, 39., np.nan, np.nan, np.nan, np.nan, np.nan, np.nan],\n",
    "       [np.nan, np.nan, 33., 43., 33., np.nan, np.nan,  9., np.nan, np.nan],\n",
    "       [np.nan, np.nan, np.nan, 32., np.nan, np.nan, np.nan, np.nan, np.nan, np.nan],\n",
    "       [np.nan,  9., np.nan, np.nan, np.nan, 12., np.nan, np.nan, np.nan, 26.],\n",
    "       [np.nan, np.nan, 14., np.nan, np.nan, np.nan, np.nan, np.nan, np.nan, 28.],\n",
    "       [np.nan, np.nan, np.nan, np.nan, np.nan, 19., np.nan, np.nan, 35., np.nan],\n",
    "       [12., np.nan, np.nan, 17., np.nan, np.nan, np.nan, np.nan, 29., np.nan],\n",
    "       [np.nan, np.nan, np.nan, np.nan, np.nan, np.nan, np.nan, 23., np.nan, np.nan],\n",
    "       [15., np.nan, np.nan, np.nan, 28., np.nan, np.nan, np.nan, np.nan, np.nan],\n",
    "       [np.nan, np.nan, np.nan, np.nan, np.nan, np.nan, np.nan,  0., np.nan, np.nan]]))"
   ]
  },
  {
   "cell_type": "code",
   "execution_count": 53,
   "metadata": {},
   "outputs": [
    {
     "data": {
      "text/plain": [
       "22.8"
      ]
     },
     "execution_count": 53,
     "metadata": {},
     "output_type": "execute_result"
    }
   ],
   "source": [
    "np.nanmean(pollution_campaign_2.values)"
   ]
  },
  {
   "cell_type": "code",
   "execution_count": 54,
   "metadata": {},
   "outputs": [
    {
     "data": {
      "text/plain": [
       "126.76000000000002"
      ]
     },
     "execution_count": 54,
     "metadata": {},
     "output_type": "execute_result"
    }
   ],
   "source": [
    "np.nanvar(pollution_campaign_2.values)"
   ]
  },
  {
   "cell_type": "code",
   "execution_count": 55,
   "metadata": {},
   "outputs": [
    {
     "data": {
      "text/plain": [
       "133.43157894736842"
      ]
     },
     "execution_count": 55,
     "metadata": {},
     "output_type": "execute_result"
    }
   ],
   "source": [
    "np.nanvar(pollution_campaign_2.values, ddof=1)"
   ]
  },
  {
   "cell_type": "code",
   "execution_count": 56,
   "metadata": {},
   "outputs": [
    {
     "data": {
      "text/plain": [
       "(array([1., 2., 3., 3., 1., 4., 3., 2., 1.]),\n",
       " array([ 0,  5, 10, 15, 20, 25, 30, 35, 40, 45]),\n",
       " <a list of 9 Patch objects>)"
      ]
     },
     "execution_count": 56,
     "metadata": {},
     "output_type": "execute_result"
    },
    {
     "data": {
      "image/png": "[encoded data removed]",
      "text/plain": [
       "<Figure size 432x288 with 1 Axes>"
      ]
     },
     "metadata": {
      "needs_background": "light"
     },
     "output_type": "display_data"
    }
   ],
   "source": [
    "plt.hist(pollution_campaign_2.values.ravel(), bins=range(0,50,5))"
   ]
  },
  {
   "cell_type": "markdown",
   "metadata": {},
   "source": [
    "# Series 6:"
   ]
  },
  {
   "cell_type": "code",
   "execution_count": 58,
   "metadata": {},
   "outputs": [
    {
     "data": {
      "application/vnd.jupyter.widget-view+json": {
       "model_id": "b4de97852d9e4915aed4dbe083791ee5",
       "version_major": 2,
       "version_minor": 0
      },
      "text/plain": [
       "QgridWidget(grid_options={'fullWidthRows': True, 'syncColumnCellResize': True, 'forceFitColumns': True, 'defau…"
      ]
     },
     "metadata": {},
     "output_type": "display_data"
    }
   ],
   "source": [
    "qgrid_widget3 = qgrid.show_grid(actual_pollution, show_toolbar=True)\n",
    "\n",
    "qgrid_widget3"
   ]
  },
  {
   "cell_type": "code",
   "execution_count": 59,
   "metadata": {},
   "outputs": [
    {
     "data": {
      "text/plain": [
       "array([[22., 20., 15., 39., 20., 22., 10.,  4., 12.,  7.],\n",
       "       [30., 21., 33., 43., 33., 20., 14., 19.,  4., 12.],\n",
       "       [24., 23., 13., 32., 29., 24., 24., 11.,  6., 16.],\n",
       "       [30.,  9.,  7., 25., 24., 12., 26., 20., 16., 26.],\n",
       "       [23., 16., 14., 11., 23., 16., 14., 16., 12., 28.],\n",
       "       [18., 30., 21., 11., 23., 19.,  8., 19., 35., 17.],\n",
       "       [12., 45., 21., 17., 14., 18., 15., 19., 29., 19.],\n",
       "       [11., 23., 27., 15., 11., 15., 26., 23., 15., 14.],\n",
       "       [15., 13., 10., 19., 28., 25., 24.,  8., 14.,  6.],\n",
       "       [20., 25., 21.,  2., 24., 23., 21.,  0., 19., 12.]])"
      ]
     },
     "execution_count": 59,
     "metadata": {},
     "output_type": "execute_result"
    }
   ],
   "source": [
    "updated_pollution3 = qgrid_widget3.get_changed_df()\n",
    "updated_pollution3.values"
   ]
  },
  {
   "cell_type": "code",
   "execution_count": 60,
   "metadata": {},
   "outputs": [],
   "source": [
    "full_domain_pollution = np.array([[22., 20., 15., 39., 20., 22., 10.,  4., 12.,  7.],\n",
    "       [30., 21., 33., 43., 33., 20., 14., 19.,  4., 12.],\n",
    "       [24., 23., 13., 32., 29., 24., 24., 11.,  6., 16.],\n",
    "       [30.,  9.,  7., 25., 24., 12., 26., 20., 16., 26.],\n",
    "       [23., 16., 14., 11., 23., 16., 14., 16., 12., 28.],\n",
    "       [18., 30., 21., 11., 23., 19.,  8., 19., 35., 17.],\n",
    "       [12., 45., 21., 17., 14., 18., 15., 19., 29., 19.],\n",
    "       [11., 23., 27., 15., 11., 15., 26., 23., 15., 14.],\n",
    "       [15., 13., 10., 19., 28., 25., 24.,  8., 14.,  6.],\n",
    "       [20., 25., 21.,  2., 24., 23., 21.,  0., 19., 12.]])"
   ]
  },
  {
   "cell_type": "code",
   "execution_count": 61,
   "metadata": {},
   "outputs": [
    {
     "data": {
      "text/plain": [
       "18.89"
      ]
     },
     "execution_count": 61,
     "metadata": {},
     "output_type": "execute_result"
    }
   ],
   "source": [
    "full_domain_pollution.mean()"
   ]
  },
  {
   "cell_type": "code",
   "execution_count": 62,
   "metadata": {},
   "outputs": [
    {
     "data": {
      "image/png": "[encoded data removed]",
      "text/plain": [
       "<Figure size 432x288 with 1 Axes>"
      ]
     },
     "metadata": {
      "needs_background": "light"
     },
     "output_type": "display_data"
    }
   ],
   "source": [
    "plt.imshow(full_domain_pollution, cmap='hot')\n",
    "plt.show()"
   ]
  },
  {
   "cell_type": "code",
   "execution_count": 65,
   "metadata": {},
   "outputs": [],
   "source": [
    "B = [M for SubA in np.split(full_domain_pollution,2, axis = 0) for M in np.split(SubA,2, axis = 1)]"
   ]
  },
  {
   "cell_type": "code",
   "execution_count": 66,
   "metadata": {},
   "outputs": [
    {
     "data": {
      "text/plain": [
       "[array([[22., 20., 15., 39., 20.],\n",
       "        [30., 21., 33., 43., 33.],\n",
       "        [24., 23., 13., 32., 29.],\n",
       "        [30.,  9.,  7., 25., 24.],\n",
       "        [23., 16., 14., 11., 23.]]), array([[22., 10.,  4., 12.,  7.],\n",
       "        [20., 14., 19.,  4., 12.],\n",
       "        [24., 24., 11.,  6., 16.],\n",
       "        [12., 26., 20., 16., 26.],\n",
       "        [16., 14., 16., 12., 28.]]), array([[18., 30., 21., 11., 23.],\n",
       "        [12., 45., 21., 17., 14.],\n",
       "        [11., 23., 27., 15., 11.],\n",
       "        [15., 13., 10., 19., 28.],\n",
       "        [20., 25., 21.,  2., 24.]]), array([[19.,  8., 19., 35., 17.],\n",
       "        [18., 15., 19., 29., 19.],\n",
       "        [15., 26., 23., 15., 14.],\n",
       "        [25., 24.,  8., 14.,  6.],\n",
       "        [23., 21.,  0., 19., 12.]])]"
      ]
     },
     "execution_count": 66,
     "metadata": {},
     "output_type": "execute_result"
    }
   ],
   "source": [
    "B"
   ]
  },
  {
   "cell_type": "code",
   "execution_count": 67,
   "metadata": {},
   "outputs": [
    {
     "data": {
      "text/plain": [
       "[23.16, 15.64, 19.04, 17.72]"
      ]
     },
     "execution_count": 67,
     "metadata": {},
     "output_type": "execute_result"
    }
   ],
   "source": [
    "[b.mean() for b in B]"
   ]
  },
  {
   "cell_type": "markdown",
   "metadata": {},
   "source": [
    "Sympy stuff"
   ]
  },
  {
   "cell_type": "code",
   "execution_count": 13,
   "metadata": {},
   "outputs": [],
   "source": [
    "from sympy import *\n",
    "x, y, z, t, h, mu, l_1, l_2 = symbols('x y z t h mu lambda_1, lambda_2')"
   ]
  },
  {
   "cell_type": "code",
   "execution_count": 6,
   "metadata": {},
   "outputs": [],
   "source": [
    "from sympy import init_printing\n",
    "\n",
    "init_printing()"
   ]
  },
  {
   "cell_type": "code",
   "execution_count": 27,
   "metadata": {},
   "outputs": [],
   "source": [
    "system = [l_2*(100 + .01*h) + mu - 100, l_1*(100 + .01*h) + mu - .01*h, l_1 + l_2 - 1]\n",
    "b = [[100], [.01*h], [1]]"
   ]
  },
  {
   "cell_type": "code",
   "execution_count": 29,
   "metadata": {},
   "outputs": [
    {
     "data": {
      "image/png": "[encoded data removed]",
      "text/latex": [
       "$$\\left [ \\lambda_{2} \\left(0.01 h + 100\\right) + \\mu - 100, \\quad - 0.01 h + \\lambda_{1} \\left(0.01 h + 100\\right) + \\mu, \\quad \\lambda_{1} + \\lambda_{2} - 1\\right ]$$"
      ],
      "text/plain": [
       "[λ₂⋅(0.01⋅h + 100) + μ - 100, -0.01⋅h + λ₁⋅(0.01⋅h + 100) + μ, λ₁ + λ₂ - 1]"
      ]
     },
     "execution_count": 29,
     "metadata": {},
     "output_type": "execute_result"
    }
   ],
   "source": [
    "system"
   ]
  },
  {
   "cell_type": "code",
   "execution_count": 28,
   "metadata": {},
   "outputs": [
    {
     "data": {
      "image/png": "[encoded data removed]",
      "text/latex": [
       "$$\\left\\{\\left ( \\frac{0.01 h}{0.01 h + 100.0}, \\quad \\frac{2.0}{0.0002 h + 2.0}, \\quad 0\\right )\\right\\}$$"
      ],
      "text/plain": [
       "⎧⎛    0.01⋅h           2.0         ⎞⎫\n",
       "⎨⎜──────────────, ──────────────, 0⎟⎬\n",
       "⎩⎝0.01⋅h + 100.0  0.0002⋅h + 2.0   ⎠⎭"
      ]
     },
     "execution_count": 28,
     "metadata": {},
     "output_type": "execute_result"
    }
   ],
   "source": [
    "linsolve(system,l_1, l_2, mu)"
   ]
  },
  {
   "cell_type": "code",
   "execution_count": 30,
   "metadata": {},
   "outputs": [
    {
     "data": {
      "image/png": "[encoded data removed]",
      "text/latex": [
       "$$0.01$$"
      ],
      "text/plain": [
       "0.01"
      ]
     },
     "execution_count": 30,
     "metadata": {},
     "output_type": "execute_result"
    }
   ],
   "source": [
    ".0002 * 50"
   ]
  },
  {
   "cell_type": "code",
   "execution_count": 31,
   "metadata": {},
   "outputs": [],
   "source": [
    "x, y, z, t, h, mu, l_1, l_2, h_1, h_2 = symbols('x y z t h mu lambda_1, lambda_2, h_1, h_2')\n",
    "system = [l_2*(100) + mu - .01*h_1, l_1*(100) + mu - .01*h_2, l_1 + l_2 - 1]"
   ]
  },
  {
   "cell_type": "code",
   "execution_count": 32,
   "metadata": {},
   "outputs": [
    {
     "data": {
      "image/png": "[encoded data removed]",
      "text/latex": [
       "$$\\left [ - 0.01 h_{1} + 100 \\lambda_{2} + \\mu, \\quad - 0.01 h_{2} + 100 \\lambda_{1} + \\mu, \\quad \\lambda_{1} + \\lambda_{2} - 1\\right ]$$"
      ],
      "text/plain": [
       "[-0.01⋅h₁ + 100⋅λ₂ + μ, -0.01⋅h₂ + 100⋅λ₁ + μ, λ₁ + λ₂ - 1]"
      ]
     },
     "execution_count": 32,
     "metadata": {},
     "output_type": "execute_result"
    }
   ],
   "source": [
    "system"
   ]
  },
  {
   "cell_type": "code",
   "execution_count": 33,
   "metadata": {},
   "outputs": [
    {
     "data": {
      "image/png": "[encoded data removed]",
      "text/latex": [
       "$$\\left\\{\\left ( - 5.0 \\cdot 10^{-5} h_{1} + 5.0 \\cdot 10^{-5} h_{2} + 0.5, \\quad 5.0 \\cdot 10^{-5} h_{1} - 5.0 \\cdot 10^{-5} h_{2} + 0.5, \\quad 0.005 h_{1} + 0.005 h_{2} - 50.0\\right )\\right\\}$$"
      ],
      "text/plain": [
       "{(-5.0e-5⋅h₁ + 5.0e-5⋅h₂ + 0.5, 5.0e-5⋅h₁ - 5.0e-5⋅h₂ + 0.5, 0.005⋅h₁ + 0.005⋅\n",
       "h₂ - 50.0)}"
      ]
     },
     "execution_count": 33,
     "metadata": {},
     "output_type": "execute_result"
    }
   ],
   "source": [
    "linsolve(system,l_1, l_2, mu)"
   ]
  },
  {
   "cell_type": "code",
   "execution_count": 36,
   "metadata": {},
   "outputs": [
    {
     "data": {
      "text/plain": [
       "'-0.01⋅h₁ + 100⋅λ₂ + μ'"
      ]
     },
     "execution_count": 36,
     "metadata": {},
     "output_type": "execute_result"
    }
   ],
   "source": [
    "pretty(l_2*(100) + mu - .01*h_1)"
   ]
  },
  {
   "cell_type": "code",
   "execution_count": 41,
   "metadata": {},
   "outputs": [],
   "source": [
    "g, a, C = symbols('gamma, a, C')\n"
   ]
  },
  {
   "cell_type": "code",
   "execution_count": 47,
   "metadata": {},
   "outputs": [
    {
     "data": {
      "image/png": "[encoded data removed]",
      "text/latex": [
       "$$\\frac{C \\left(2 \\Re{\\left(h\\right)} \\frac{d}{d h} \\Re{\\left(h\\right)} + 2 \\Im{h} \\frac{d}{d h} \\Im{h}\\right) e^{- \\frac{\\left|{h}\\right|^{2}}{a^{2}}}}{a^{2}}$$"
      ],
      "text/plain": [
       "                                               2 \n",
       "                                           -│h│  \n",
       "                                           ──────\n",
       "                                              2  \n",
       "  ⎛        d                   d        ⎞    a   \n",
       "C⋅⎜2⋅re(h)⋅──(re(h)) + 2⋅im(h)⋅──(im(h))⎟⋅ℯ      \n",
       "  ⎝        dh                  dh       ⎠        \n",
       "─────────────────────────────────────────────────\n",
       "                         2                       \n",
       "                        a                        "
      ]
     },
     "execution_count": 47,
     "metadata": {},
     "output_type": "execute_result"
    }
   ],
   "source": [
    "diff(C*(1 - exp(-(abs(h) / a)**2)), h)"
   ]
  },
  {
   "cell_type": "code",
   "execution_count": null,
   "metadata": {},
   "outputs": [],
   "source": []
  }
 ],
 "metadata": {
  "kernelspec": {
   "display_name": "Python 3",
   "language": "python",
   "name": "python3"
  },
  "language_info": {
   "codemirror_mode": {
    "name": "ipython",
    "version": 3
   },
   "file_extension": ".py",
   "mimetype": "text/x-python",
   "name": "python",
   "nbconvert_exporter": "python",
   "pygments_lexer": "ipython3",
   "version": "3.7.3"
  }
 },
 "nbformat": 4,
 "nbformat_minor": 2
}
